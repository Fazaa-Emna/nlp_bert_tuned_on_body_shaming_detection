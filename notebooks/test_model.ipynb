{
 "cells": [
  {
   "cell_type": "code",
   "execution_count": 2,
   "metadata": {},
   "outputs": [
    {
     "name": "stderr",
     "output_type": "stream",
     "text": [
      "c:\\Users\\Serawork\\Documents\\projects\\NLP\\body-shaming-binaire-fr\\.venv\\lib\\site-packages\\sklearn\\utils\\validation.py:37: DeprecationWarning: distutils Version classes are deprecated. Use packaging.version instead.\n",
      "  LARGE_SPARSE_SUPPORTED = LooseVersion(scipy_version) >= '0.14.0'\n"
     ]
    }
   ],
   "source": [
    "import pandas as pd\n",
    "import pickle\n",
    "from sklearn.metrics import accuracy_score, classification_report, confusion_matrix"
   ]
  },
  {
   "cell_type": "code",
   "execution_count": 3,
   "metadata": {},
   "outputs": [
    {
     "name": "stdout",
     "output_type": "stream",
     "text": [
      "Accuracy: 0.9601667438628995\n",
      "Classification Report:\n",
      "               precision    recall  f1-score   support\n",
      "\n",
      "           0       0.97      0.97      0.97      1423\n",
      "           1       0.94      0.94      0.94       736\n",
      "\n",
      "   micro avg       0.96      0.96      0.96      2159\n",
      "   macro avg       0.96      0.96      0.96      2159\n",
      "weighted avg       0.96      0.96      0.96      2159\n",
      "\n",
      "Confusion Matrix:\n",
      " [[1382   41]\n",
      " [  45  691]]\n"
     ]
    }
   ],
   "source": [
    "\n",
    "# Load the saved model and vectorizer\n",
    "model_path = '../deploiement/models/model_SVM.pkl'\n",
    "vectorizer_path = '../deploiement/models/vectorizer_SVM.pkl'\n",
    "\n",
    "with open(model_path, 'rb') as model_file:\n",
    "    loaded_model = pickle.load(model_file)\n",
    "\n",
    "with open(vectorizer_path, 'rb') as vectorizer_file:\n",
    "    loaded_vectorizer = pickle.load(vectorizer_file)\n",
    "\n",
    "# Load your new dataset\n",
    "new_dataset_path = '../data/bs.csv'\n",
    "new_df = pd.read_csv(new_dataset_path)\n",
    "\n",
    "# Extract features (X) and labels (y) from the new dataset\n",
    "X_new = new_df['text'].tolist()\n",
    "y_true = new_df['label'].tolist()\n",
    "\n",
    "# Use the loaded vectorizer to transform the text data\n",
    "X_new_vectorized = loaded_vectorizer.transform(X_new)\n",
    "\n",
    "# Make predictions with the loaded model\n",
    "predictions = loaded_model.predict(X_new_vectorized)\n",
    "\n",
    "# Evaluate the model\n",
    "accuracy = accuracy_score(y_true, predictions)\n",
    "classification_rep = classification_report(y_true, predictions)\n",
    "confusion_mat = confusion_matrix(y_true, predictions)\n",
    "\n",
    "# Print or save the results\n",
    "print(\"Accuracy:\", accuracy)\n",
    "print(\"Classification Report:\\n\", classification_rep)\n",
    "print(\"Confusion Matrix:\\n\", confusion_mat)\n",
    "\n"
   ]
  }
 ],
 "metadata": {
  "kernelspec": {
   "display_name": "Python 3",
   "language": "python",
   "name": "python3"
  },
  "language_info": {
   "codemirror_mode": {
    "name": "ipython",
    "version": 3
   },
   "file_extension": ".py",
   "mimetype": "text/x-python",
   "name": "python",
   "nbconvert_exporter": "python",
   "pygments_lexer": "ipython3",
   "version": "3.11.5"
  }
 },
 "nbformat": 4,
 "nbformat_minor": 2
}
