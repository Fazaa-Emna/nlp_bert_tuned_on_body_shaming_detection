{
 "cells": [
  {
   "cell_type": "markdown",
   "metadata": {},
   "source": [
    "Libraries"
   ]
  },
  {
   "cell_type": "code",
   "execution_count": 1,
   "metadata": {},
   "outputs": [
    {
     "name": "stdout",
     "output_type": "stream",
     "text": [
      "Requirement already satisfied: fastapi in c:\\users\\msi\\appdata\\local\\programs\\python\\python37\\lib\\site-packages (from -r ../deploiement/requirements.txt (line 1)) (0.103.2)\n",
      "Requirement already satisfied: uvicorn in c:\\users\\msi\\appdata\\local\\programs\\python\\python37\\lib\\site-packages (from -r ../deploiement/requirements.txt (line 2)) (0.22.0)\n",
      "Requirement already satisfied: python-multipart in c:\\users\\msi\\appdata\\local\\programs\\python\\python37\\lib\\site-packages (from -r ../deploiement/requirements.txt (line 3)) (0.0.8)\n",
      "Requirement already satisfied: numpy==1.16.1 in c:\\users\\msi\\appdata\\local\\programs\\python\\python37\\lib\\site-packages (from -r ../deploiement/requirements.txt (line 4)) (1.16.1)\n",
      "Requirement already satisfied: scikit-learn==0.20.2 in c:\\users\\msi\\appdata\\local\\programs\\python\\python37\\lib\\site-packages (from -r ../deploiement/requirements.txt (line 5)) (0.20.2)\n",
      "Requirement already satisfied: pydantic!=1.8,!=1.8.1,!=2.0.0,!=2.0.1,!=2.1.0,<3.0.0,>=1.7.4 in c:\\users\\msi\\appdata\\local\\programs\\python\\python37\\lib\\site-packages (from fastapi->-r ../deploiement/requirements.txt (line 1)) (2.5.3)\n",
      "Requirement already satisfied: starlette<0.28.0,>=0.27.0 in c:\\users\\msi\\appdata\\local\\programs\\python\\python37\\lib\\site-packages (from fastapi->-r ../deploiement/requirements.txt (line 1)) (0.27.0)\n",
      "Requirement already satisfied: typing-extensions>=4.5.0 in c:\\users\\msi\\appdata\\local\\programs\\python\\python37\\lib\\site-packages (from fastapi->-r ../deploiement/requirements.txt (line 1)) (4.7.1)\n",
      "Requirement already satisfied: anyio<4.0.0,>=3.7.1 in c:\\users\\msi\\appdata\\local\\programs\\python\\python37\\lib\\site-packages (from fastapi->-r ../deploiement/requirements.txt (line 1)) (3.7.1)\n",
      "Requirement already satisfied: h11>=0.8 in c:\\users\\msi\\appdata\\local\\programs\\python\\python37\\lib\\site-packages (from uvicorn->-r ../deploiement/requirements.txt (line 2)) (0.14.0)\n",
      "Requirement already satisfied: click>=7.0 in c:\\users\\msi\\appdata\\local\\programs\\python\\python37\\lib\\site-packages (from uvicorn->-r ../deploiement/requirements.txt (line 2)) (8.1.7)\n",
      "Requirement already satisfied: scipy>=0.13.3 in c:\\users\\msi\\appdata\\local\\programs\\python\\python37\\lib\\site-packages (from scikit-learn==0.20.2->-r ../deploiement/requirements.txt (line 5)) (1.7.3)\n",
      "Requirement already satisfied: annotated-types>=0.4.0 in c:\\users\\msi\\appdata\\local\\programs\\python\\python37\\lib\\site-packages (from pydantic!=1.8,!=1.8.1,!=2.0.0,!=2.0.1,!=2.1.0,<3.0.0,>=1.7.4->fastapi->-r ../deploiement/requirements.txt (line 1)) (0.5.0)\n",
      "Requirement already satisfied: pydantic-core==2.14.6 in c:\\users\\msi\\appdata\\local\\programs\\python\\python37\\lib\\site-packages (from pydantic!=1.8,!=1.8.1,!=2.0.0,!=2.0.1,!=2.1.0,<3.0.0,>=1.7.4->fastapi->-r ../deploiement/requirements.txt (line 1)) (2.14.6)\n",
      "Requirement already satisfied: importlib-metadata; python_version == \"3.7\" in c:\\users\\msi\\appdata\\local\\programs\\python\\python37\\lib\\site-packages (from pydantic!=1.8,!=1.8.1,!=2.0.0,!=2.0.1,!=2.1.0,<3.0.0,>=1.7.4->fastapi->-r ../deploiement/requirements.txt (line 1)) (6.7.0)\n",
      "Requirement already satisfied: sniffio>=1.1 in c:\\users\\msi\\appdata\\local\\programs\\python\\python37\\lib\\site-packages (from anyio<4.0.0,>=3.7.1->fastapi->-r ../deploiement/requirements.txt (line 1)) (1.3.1)\n",
      "Requirement already satisfied: exceptiongroup; python_version < \"3.11\" in c:\\users\\msi\\appdata\\local\\programs\\python\\python37\\lib\\site-packages (from anyio<4.0.0,>=3.7.1->fastapi->-r ../deploiement/requirements.txt (line 1)) (1.2.1)\n",
      "Requirement already satisfied: idna>=2.8 in c:\\users\\msi\\appdata\\local\\programs\\python\\python37\\lib\\site-packages (from anyio<4.0.0,>=3.7.1->fastapi->-r ../deploiement/requirements.txt (line 1)) (3.7)\n",
      "Requirement already satisfied: colorama; platform_system == \"Windows\" in c:\\users\\msi\\appdata\\roaming\\python\\python37\\site-packages (from click>=7.0->uvicorn->-r ../deploiement/requirements.txt (line 2)) (0.4.6)\n",
      "Requirement already satisfied: zipp>=0.5 in c:\\users\\msi\\appdata\\local\\programs\\python\\python37\\lib\\site-packages (from importlib-metadata; python_version == \"3.7\"->pydantic!=1.8,!=1.8.1,!=2.0.0,!=2.0.1,!=2.1.0,<3.0.0,>=1.7.4->fastapi->-r ../deploiement/requirements.txt (line 1)) (3.15.0)\n"
     ]
    },
    {
     "name": "stderr",
     "output_type": "stream",
     "text": [
      "WARNING: You are using pip version 20.1.1; however, version 24.0 is available.\n",
      "You should consider upgrading via the 'c:\\users\\msi\\appdata\\local\\programs\\python\\python37\\python.exe -m pip install --upgrade pip' command.\n"
     ]
    }
   ],
   "source": [
    "!pip install -r ../deploiement/requirements.txt"
   ]
  },
  {
   "cell_type": "code",
   "execution_count": 2,
   "metadata": {},
   "outputs": [
    {
     "name": "stdout",
     "output_type": "stream",
     "text": [
      "Requirement already satisfied: numpy==1.16.1 in c:\\users\\msi\\appdata\\local\\programs\\python\\python37\\lib\\site-packages (1.16.1)\n",
      "Note: you may need to restart the kernel to use updated packages.\n"
     ]
    },
    {
     "name": "stderr",
     "output_type": "stream",
     "text": [
      "WARNING: You are using pip version 20.1.1; however, version 24.0 is available.\n",
      "You should consider upgrading via the 'c:\\Users\\MSI\\AppData\\Local\\Programs\\Python\\Python37\\python.exe -m pip install --upgrade pip' command.\n"
     ]
    }
   ],
   "source": [
    "pip install numpy==1.16.1"
   ]
  },
  {
   "cell_type": "code",
   "execution_count": 3,
   "metadata": {},
   "outputs": [
    {
     "name": "stdout",
     "output_type": "stream",
     "text": [
      "Collecting pandas==0.24.0\n",
      "  Downloading pandas-0.24.0-cp37-cp37m-win_amd64.whl (9.0 MB)\n",
      "Requirement already satisfied: python-dateutil>=2.5.0 in c:\\users\\msi\\appdata\\roaming\\python\\python37\\site-packages (from pandas==0.24.0) (2.9.0.post0)\n",
      "Collecting pytz>=2011k\n",
      "  Downloading pytz-2024.1-py2.py3-none-any.whl (505 kB)\n",
      "Requirement already satisfied: numpy>=1.12.0 in c:\\users\\msi\\appdata\\local\\programs\\python\\python37\\lib\\site-packages (from pandas==0.24.0) (1.16.1)\n",
      "Requirement already satisfied: six>=1.5 in c:\\users\\msi\\appdata\\roaming\\python\\python37\\site-packages (from python-dateutil>=2.5.0->pandas==0.24.0) (1.16.0)\n",
      "Installing collected packages: pytz, pandas\n",
      "Successfully installed pandas-0.24.0 pytz-2024.1\n",
      "Note: you may need to restart the kernel to use updated packages.\n"
     ]
    },
    {
     "name": "stderr",
     "output_type": "stream",
     "text": [
      "WARNING: You are using pip version 20.1.1; however, version 24.0 is available.\n",
      "You should consider upgrading via the 'c:\\Users\\MSI\\AppData\\Local\\Programs\\Python\\Python37\\python.exe -m pip install --upgrade pip' command.\n"
     ]
    }
   ],
   "source": [
    "pip install pandas==0.24.0"
   ]
  },
  {
   "cell_type": "code",
   "execution_count": 4,
   "metadata": {},
   "outputs": [
    {
     "name": "stdout",
     "output_type": "stream",
     "text": [
      "Collecting toml\n",
      "  Downloading toml-0.10.2-py2.py3-none-any.whl (16 kB)\n",
      "Installing collected packages: toml\n",
      "Successfully installed toml-0.10.2\n",
      "Note: you may need to restart the kernel to use updated packages.\n"
     ]
    },
    {
     "name": "stderr",
     "output_type": "stream",
     "text": [
      "WARNING: You are using pip version 20.1.1; however, version 24.0 is available.\n",
      "You should consider upgrading via the 'c:\\Users\\MSI\\AppData\\Local\\Programs\\Python\\Python37\\python.exe -m pip install --upgrade pip' command.\n"
     ]
    }
   ],
   "source": [
    "pip install toml"
   ]
  },
  {
   "cell_type": "code",
   "execution_count": 5,
   "metadata": {},
   "outputs": [
    {
     "name": "stdout",
     "output_type": "stream",
     "text": [
      "Name: numpy\n",
      "Version: 1.16.1\n",
      "Summary: NumPy is the fundamental package for array computing with Python.\n",
      "Home-page: https://www.numpy.org\n",
      "Author: Travis E. Oliphant et al.\n",
      "Author-email: None\n",
      "License: BSD\n",
      "Location: c:\\users\\msi\\appdata\\local\\programs\\python\\python37\\lib\\site-packages\n",
      "Requires: \n",
      "Required-by: scipy, scikit-learn, pandas\n",
      "Note: you may need to restart the kernel to use updated packages.\n"
     ]
    }
   ],
   "source": [
    "pip show numpy"
   ]
  },
  {
   "cell_type": "code",
   "execution_count": 21,
   "metadata": {},
   "outputs": [],
   "source": [
    "import pandas as pd\n",
    "import pickle\n",
    "from sklearn.metrics import accuracy_score, classification_report, confusion_matrix\n",
    "from sklearn.metrics import classification_report, confusion_matrix\n",
    "#import seaborn as sns\n",
    "#import matplotlib.pyplot as plt\n",
    "\n"
   ]
  },
  {
   "cell_type": "markdown",
   "metadata": {},
   "source": [
    "Loading the Dataset"
   ]
  },
  {
   "cell_type": "code",
   "execution_count": 7,
   "metadata": {},
   "outputs": [],
   "source": [
    "# Load your new dataset\n",
    "new_dataset_path = '../data/BodyShaming_dataset.csv'\n",
    "df = pd.read_csv(new_dataset_path)"
   ]
  },
  {
   "cell_type": "code",
   "execution_count": 10,
   "metadata": {},
   "outputs": [
    {
     "data": {
      "text/html": [
       "<div>\n",
       "<style scoped>\n",
       "    .dataframe tbody tr th:only-of-type {\n",
       "        vertical-align: middle;\n",
       "    }\n",
       "\n",
       "    .dataframe tbody tr th {\n",
       "        vertical-align: top;\n",
       "    }\n",
       "\n",
       "    .dataframe thead th {\n",
       "        text-align: right;\n",
       "    }\n",
       "</style>\n",
       "<table border=\"1\" class=\"dataframe\">\n",
       "  <thead>\n",
       "    <tr style=\"text-align: right;\">\n",
       "      <th></th>\n",
       "      <th>Data</th>\n",
       "      <th>Shaming</th>\n",
       "    </tr>\n",
       "  </thead>\n",
       "  <tbody>\n",
       "    <tr>\n",
       "      <th>0</th>\n",
       "      <td>Non au non il sont tous moch*</td>\n",
       "      <td>body shaming</td>\n",
       "    </tr>\n",
       "    <tr>\n",
       "      <th>1</th>\n",
       "      <td>Toi bien moche et bien gros</td>\n",
       "      <td>body shaming</td>\n",
       "    </tr>\n",
       "    <tr>\n",
       "      <th>2</th>\n",
       "      <td>🤨😂pq ? Belle guenon 🤣</td>\n",
       "      <td>body shaming</td>\n",
       "    </tr>\n",
       "    <tr>\n",
       "      <th>3</th>\n",
       "      <td>Regarde la tête d’isaac</td>\n",
       "      <td>body shaming</td>\n",
       "    </tr>\n",
       "    <tr>\n",
       "      <th>4</th>\n",
       "      <td>T moche</td>\n",
       "      <td>body shaming</td>\n",
       "    </tr>\n",
       "  </tbody>\n",
       "</table>\n",
       "</div>"
      ],
      "text/plain": [
       "                            Data       Shaming\n",
       "0  Non au non il sont tous moch*  body shaming\n",
       "1    Toi bien moche et bien gros  body shaming\n",
       "2          🤨😂pq ? Belle guenon 🤣  body shaming\n",
       "3        Regarde la tête d’isaac  body shaming\n",
       "4                        T moche  body shaming"
      ]
     },
     "execution_count": 10,
     "metadata": {},
     "output_type": "execute_result"
    }
   ],
   "source": [
    "df.head()"
   ]
  },
  {
   "cell_type": "code",
   "execution_count": 12,
   "metadata": {},
   "outputs": [],
   "source": [
    "# Extract features (X) and labels (y) from the new dataset\n",
    "X_new = df['Data'].tolist()\n",
    "y_true = df['Shaming'].tolist()"
   ]
  },
  {
   "cell_type": "markdown",
   "metadata": {},
   "source": [
    "Loading the Model"
   ]
  },
  {
   "cell_type": "code",
   "execution_count": 9,
   "metadata": {},
   "outputs": [],
   "source": [
    "import pickle\n",
    "import sklearn\n",
    "from sklearn.ensemble import RandomForestClassifier\n",
    "from sklearn.feature_extraction.text import TfidfVectorizer\n",
    "\n",
    "# Load the saved model and vectorizer\n",
    "model_path = '../deploiement/models/model_SVM.pkl'\n",
    "vectorizer_path = '../deploiement/models/vectorizer_SVM.pkl'\n",
    "\n",
    "try:\n",
    "    with open(model_path, 'rb') as model_file:\n",
    "        loaded_model = pickle.load(model_file)\n",
    "\n",
    "    with open(vectorizer_path, 'rb') as vectorizer_file:\n",
    "        loaded_vectorizer = pickle.load(vectorizer_file)\n",
    "\n",
    "except ModuleNotFoundError as e:\n",
    "    print(f\"Error loading model or vectorizer: {e}\")\n",
    "    print(\"Ensure that you have the correct scikit-learn version installed.\")\n"
   ]
  },
  {
   "cell_type": "markdown",
   "metadata": {},
   "source": [
    "Model inference"
   ]
  },
  {
   "cell_type": "code",
   "execution_count": 13,
   "metadata": {},
   "outputs": [],
   "source": [
    "# Vectorize the Data column\n",
    "X_test = loaded_vectorizer.transform(df['Data'])\n",
    "\n",
    "# Make predictions\n",
    "df['Predicted_Shaming'] = loaded_model.predict(X_test)\n"
   ]
  },
  {
   "cell_type": "code",
   "execution_count": 25,
   "metadata": {},
   "outputs": [
    {
     "data": {
      "text/html": [
       "<div>\n",
       "<style scoped>\n",
       "    .dataframe tbody tr th:only-of-type {\n",
       "        vertical-align: middle;\n",
       "    }\n",
       "\n",
       "    .dataframe tbody tr th {\n",
       "        vertical-align: top;\n",
       "    }\n",
       "\n",
       "    .dataframe thead th {\n",
       "        text-align: right;\n",
       "    }\n",
       "</style>\n",
       "<table border=\"1\" class=\"dataframe\">\n",
       "  <thead>\n",
       "    <tr style=\"text-align: right;\">\n",
       "      <th></th>\n",
       "      <th>Data</th>\n",
       "      <th>Shaming</th>\n",
       "      <th>Predicted_Shaming</th>\n",
       "    </tr>\n",
       "  </thead>\n",
       "  <tbody>\n",
       "    <tr>\n",
       "      <th>0</th>\n",
       "      <td>Non au non il sont tous moch*</td>\n",
       "      <td>body shaming</td>\n",
       "      <td>0</td>\n",
       "    </tr>\n",
       "    <tr>\n",
       "      <th>1</th>\n",
       "      <td>Toi bien moche et bien gros</td>\n",
       "      <td>body shaming</td>\n",
       "      <td>1</td>\n",
       "    </tr>\n",
       "    <tr>\n",
       "      <th>2</th>\n",
       "      <td>🤨😂pq ? Belle guenon 🤣</td>\n",
       "      <td>body shaming</td>\n",
       "      <td>0</td>\n",
       "    </tr>\n",
       "    <tr>\n",
       "      <th>3</th>\n",
       "      <td>Regarde la tête d’isaac</td>\n",
       "      <td>body shaming</td>\n",
       "      <td>0</td>\n",
       "    </tr>\n",
       "    <tr>\n",
       "      <th>4</th>\n",
       "      <td>T moche</td>\n",
       "      <td>body shaming</td>\n",
       "      <td>0</td>\n",
       "    </tr>\n",
       "  </tbody>\n",
       "</table>\n",
       "</div>"
      ],
      "text/plain": [
       "                            Data       Shaming  Predicted_Shaming\n",
       "0  Non au non il sont tous moch*  body shaming                  0\n",
       "1    Toi bien moche et bien gros  body shaming                  1\n",
       "2          🤨😂pq ? Belle guenon 🤣  body shaming                  0\n",
       "3        Regarde la tête d’isaac  body shaming                  0\n",
       "4                        T moche  body shaming                  0"
      ]
     },
     "execution_count": 25,
     "metadata": {},
     "output_type": "execute_result"
    }
   ],
   "source": [
    "df.head()"
   ]
  },
  {
   "cell_type": "code",
   "execution_count": 26,
   "metadata": {},
   "outputs": [
    {
     "name": "stdout",
     "output_type": "stream",
     "text": [
      "Unique values in 'Shaming' column:\n",
      "['body shaming' 'not body shaming']\n"
     ]
    }
   ],
   "source": [
    "unique_shaming_values = df['Shaming'].unique()\n",
    "print(\"Unique values in 'Shaming' column:\")\n",
    "print(unique_shaming_values)"
   ]
  },
  {
   "cell_type": "markdown",
   "metadata": {},
   "source": [
    "Model Evaluation"
   ]
  },
  {
   "cell_type": "code",
   "execution_count": 27,
   "metadata": {},
   "outputs": [
    {
     "name": "stdout",
     "output_type": "stream",
     "text": [
      "        Shaming  Shaming_binary\n",
      "0  body shaming               1\n",
      "1  body shaming               1\n",
      "2  body shaming               1\n",
      "3  body shaming               1\n",
      "4  body shaming               1\n",
      "5  body shaming               1\n",
      "6  body shaming               1\n",
      "7  body shaming               1\n",
      "8  body shaming               1\n",
      "9  body shaming               1\n"
     ]
    }
   ],
   "source": [
    "# Assuming your DataFrame is named df and it has a column named 'Shaming'\n",
    "# Define the mapping dictionary\n",
    "shaming_mapping = {\n",
    "    'body shaming': 1,\n",
    "    'not body shaming': 0\n",
    "}\n",
    "\n",
    "# Map the values in the 'Shaming' column\n",
    "df['Shaming_binary'] = df['Shaming'].map(shaming_mapping)\n",
    "\n",
    "# Display the updated DataFrame to verify\n",
    "print(df[['Shaming', 'Shaming_binary']].head(10))  # Adjust the head() parameter as needed\n"
   ]
  },
  {
   "cell_type": "code",
   "execution_count": 31,
   "metadata": {},
   "outputs": [
    {
     "name": "stdout",
     "output_type": "stream",
     "text": [
      "Classification Report:\n",
      "                  precision    recall  f1-score   support\n",
      "\n",
      "not body shaming       0.59      0.81      0.68        48\n",
      "    body shaming       0.70      0.44      0.54        48\n",
      "\n",
      "       micro avg       0.62      0.62      0.62        96\n",
      "       macro avg       0.65      0.62      0.61        96\n",
      "    weighted avg       0.65      0.62      0.61        96\n",
      "\n",
      "Accuracy: 0.62\n",
      "Confusion Matrix:\n",
      "\t\tPredicted\n",
      "\t\tnot body shaming\tbody shaming\n",
      "Truth not body shaming\t\t39\t9\n",
      "Truth body shaming\t\t27\t21\n",
      "\n"
     ]
    }
   ],
   "source": [
    "from sklearn.metrics import classification_report, confusion_matrix\n",
    "\n",
    "# Example data (replace with your actual data)\n",
    "y_true = df['Shaming_binary']\n",
    "y_pred = df['Predicted_Shaming']\n",
    "\n",
    "# Evaluate the model\n",
    "classification_report_output = classification_report(y_true, y_pred, target_names=['not body shaming', 'body shaming'])\n",
    "conf_matrix = confusion_matrix(y_true, y_pred)\n",
    "\n",
    "# Print classification report\n",
    "print(\"Classification Report:\")\n",
    "print(classification_report_output)\n",
    "\n",
    "# Calculate accuracy\n",
    "accuracy = (y_true == y_pred).mean()\n",
    "print(f\"Accuracy: {accuracy:.2f}\")\n",
    "\n",
    "# Function to print confusion matrix with labels\n",
    "def print_confusion_matrix(conf_matrix, labels):\n",
    "    matrix_str = \"Confusion Matrix:\\n\"\n",
    "    matrix_str += \"\\t\\tPredicted\\n\"\n",
    "    matrix_str += \"\\t\\t\" + \"\\t\".join(labels) + \"\\n\"\n",
    "    for i, row in enumerate(conf_matrix):\n",
    "        matrix_str += f\"Truth {labels[i]}\\t\\t\"\n",
    "        matrix_str += \"\\t\".join(map(str, row)) + \"\\n\"\n",
    "    print(matrix_str)\n",
    "\n",
    "# Labels for confusion matrix\n",
    "labels = ['not body shaming', 'body shaming']  # Adjust as per your binary labels\n",
    "\n",
    "# Print confusion matrix\n",
    "print_confusion_matrix(conf_matrix, labels)\n"
   ]
  },
  {
   "cell_type": "code",
   "execution_count": null,
   "metadata": {},
   "outputs": [],
   "source": []
  }
 ],
 "metadata": {
  "kernelspec": {
   "display_name": "Python 3",
   "language": "python",
   "name": "python3"
  },
  "language_info": {
   "codemirror_mode": {
    "name": "ipython",
    "version": 3
   },
   "file_extension": ".py",
   "mimetype": "text/x-python",
   "name": "python",
   "nbconvert_exporter": "python",
   "pygments_lexer": "ipython3",
   "version": "3.7.9"
  }
 },
 "nbformat": 4,
 "nbformat_minor": 2
}
